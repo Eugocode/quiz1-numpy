{
 "cells": [
  {
   "cell_type": "markdown",
   "id": "c5d35afa",
   "metadata": {},
   "source": [
    "# Quiz 1 - Numpy"
   ]
  },
  {
   "cell_type": "markdown",
   "id": "f2616552",
   "metadata": {},
   "source": [
    "by: Dleamnor Euraze M. Cawaling | BS in Computer Science IV"
   ]
  },
  {
   "cell_type": "markdown",
   "id": "105ad097",
   "metadata": {},
   "source": [
    "## Part 1"
   ]
  },
  {
   "cell_type": "code",
   "execution_count": 1,
   "id": "cfef2489",
   "metadata": {},
   "outputs": [
    {
     "name": "stdout",
     "output_type": "stream",
     "text": [
      "Populating the interactive namespace from numpy and matplotlib\n"
     ]
    }
   ],
   "source": [
    "#load the numpy and matplotlib\n",
    "%pylab inline"
   ]
  },
  {
   "cell_type": "markdown",
   "id": "6b3516db",
   "metadata": {},
   "source": [
    "* Create 2 1D arrays, y_hat and y"
   ]
  },
  {
   "cell_type": "code",
   "execution_count": 2,
   "id": "2f36768c",
   "metadata": {},
   "outputs": [
    {
     "data": {
      "text/plain": [
       "array([], dtype=float64)"
      ]
     },
     "execution_count": 2,
     "metadata": {},
     "output_type": "execute_result"
    }
   ],
   "source": [
    "y_hat = np.array([])\n",
    "y_hat"
   ]
  },
  {
   "cell_type": "code",
   "execution_count": 3,
   "id": "296f3785",
   "metadata": {},
   "outputs": [
    {
     "data": {
      "text/plain": [
       "array([], dtype=float64)"
      ]
     },
     "execution_count": 3,
     "metadata": {},
     "output_type": "execute_result"
    }
   ],
   "source": [
    "y = np.array([])\n",
    "y"
   ]
  },
  {
   "cell_type": "markdown",
   "id": "46138e1e",
   "metadata": {},
   "source": [
    "* Initialize y_hat with 20 linearly spaced numbers between -1 and 1"
   ]
  },
  {
   "cell_type": "code",
   "execution_count": 4,
   "id": "e72cde6c",
   "metadata": {},
   "outputs": [
    {
     "data": {
      "text/plain": [
       "array([-1.        , -0.89473684, -0.78947368, -0.68421053, -0.57894737,\n",
       "       -0.47368421, -0.36842105, -0.26315789, -0.15789474, -0.05263158,\n",
       "        0.05263158,  0.15789474,  0.26315789,  0.36842105,  0.47368421,\n",
       "        0.57894737,  0.68421053,  0.78947368,  0.89473684,  1.        ])"
      ]
     },
     "execution_count": 4,
     "metadata": {},
     "output_type": "execute_result"
    }
   ],
   "source": [
    "y_hat = np.linspace (-1,1,20)\n",
    "y_hat"
   ]
  },
  {
   "cell_type": "markdown",
   "id": "f5091956",
   "metadata": {},
   "source": [
    "* Initialize y with 20 linearly spaced numbers between 0 and 1"
   ]
  },
  {
   "cell_type": "code",
   "execution_count": 5,
   "id": "1c5394bb",
   "metadata": {},
   "outputs": [
    {
     "data": {
      "text/plain": [
       "array([0.        , 0.05263158, 0.10526316, 0.15789474, 0.21052632,\n",
       "       0.26315789, 0.31578947, 0.36842105, 0.42105263, 0.47368421,\n",
       "       0.52631579, 0.57894737, 0.63157895, 0.68421053, 0.73684211,\n",
       "       0.78947368, 0.84210526, 0.89473684, 0.94736842, 1.        ])"
      ]
     },
     "execution_count": 5,
     "metadata": {},
     "output_type": "execute_result"
    }
   ],
   "source": [
    "y = np.linspace (0,1,20)\n",
    "y"
   ]
  },
  {
   "cell_type": "markdown",
   "id": "76a1b749",
   "metadata": {},
   "source": [
    "* Compute for the shape and dimension of y_hat and y"
   ]
  },
  {
   "cell_type": "code",
   "execution_count": 6,
   "id": "83289441",
   "metadata": {},
   "outputs": [
    {
     "data": {
      "text/plain": [
       "1"
      ]
     },
     "execution_count": 6,
     "metadata": {},
     "output_type": "execute_result"
    }
   ],
   "source": [
    "#Dimension of y_hat\n",
    "y_hat.ndim"
   ]
  },
  {
   "cell_type": "code",
   "execution_count": 7,
   "id": "fa9a9ee6",
   "metadata": {},
   "outputs": [
    {
     "data": {
      "text/plain": [
       "1"
      ]
     },
     "execution_count": 7,
     "metadata": {},
     "output_type": "execute_result"
    }
   ],
   "source": [
    "#Dimension of y\n",
    "y.ndim"
   ]
  },
  {
   "cell_type": "code",
   "execution_count": 8,
   "id": "b27c16ac",
   "metadata": {},
   "outputs": [
    {
     "data": {
      "text/plain": [
       "(20,)"
      ]
     },
     "execution_count": 8,
     "metadata": {},
     "output_type": "execute_result"
    }
   ],
   "source": [
    "#Shape of y_hat\n",
    "y_hat.shape"
   ]
  },
  {
   "cell_type": "code",
   "execution_count": 9,
   "id": "bf1a8c01",
   "metadata": {},
   "outputs": [
    {
     "data": {
      "text/plain": [
       "(20,)"
      ]
     },
     "execution_count": 9,
     "metadata": {},
     "output_type": "execute_result"
    }
   ],
   "source": [
    "#Shape of y\n",
    "y.shape"
   ]
  },
  {
   "cell_type": "markdown",
   "id": "997d8c41",
   "metadata": {},
   "source": [
    "* Create individual functions for each of the loss functions with y and y_hat as parameters\n",
    "* Each function should return the loss value (L)"
   ]
  },
  {
   "cell_type": "markdown",
   "id": "11cd4e68",
   "metadata": {},
   "source": [
    "### Mean Squared Error (MSE)"
   ]
  },
  {
   "cell_type": "markdown",
   "id": "59bdd097",
   "metadata": {},
   "source": [
    "Mostly commonly used in linear regression models. The mean squared error, sometimes called residual sum of squares is"
   ]
  },
  {
   "attachments": {
    "MSE.png": {
     "image/png": "[encoded data removed]"
    }
   },
   "cell_type": "markdown",
   "id": "c44105d1",
   "metadata": {},
   "source": [
    "![MSE.png](attachment:MSE.png)"
   ]
  },
  {
   "cell_type": "code",
   "execution_count": 10,
   "id": "0273a024",
   "metadata": {},
   "outputs": [
    {
     "name": "stdout",
     "output_type": "stream",
     "text": [
      "Mean Squared Error:  0.3421052631578948\n"
     ]
    }
   ],
   "source": [
    "def mse(y_hat, y):\n",
    "    return np.square(y_hat - y).mean()\n",
    "\n",
    "print (\"Mean Squared Error: \", mse(y_hat,y))"
   ]
  },
  {
   "cell_type": "markdown",
   "id": "45a0af12",
   "metadata": {},
   "source": [
    "### Mean Absolute Error (MAE)"
   ]
  },
  {
   "cell_type": "markdown",
   "id": "529d8239",
   "metadata": {},
   "source": [
    "Similar to MSE, but instead of squaring the distance, the absolute value of the error is taken. It measures the average magnitude of the error across the predictions."
   ]
  },
  {
   "attachments": {
    "MAE.png": {
     "image/png": "[encoded data removed]"
    }
   },
   "cell_type": "markdown",
   "id": "ae028417",
   "metadata": {},
   "source": [
    "![MAE.png](attachment:MAE.png)"
   ]
  },
  {
   "cell_type": "code",
   "execution_count": 11,
   "id": "2632d116",
   "metadata": {},
   "outputs": [
    {
     "name": "stdout",
     "output_type": "stream",
     "text": [
      "Mean Absolute Error:  0.4999999999999999\n"
     ]
    }
   ],
   "source": [
    "def mae(y_hat, y):\n",
    "    return (np.sum(np.absolute(y_hat - y))/len(y_hat))\n",
    "\n",
    "print (\"Mean Absolute Error: \", mae(y_hat, y))"
   ]
  },
  {
   "cell_type": "markdown",
   "id": "ad7f5f35",
   "metadata": {},
   "source": [
    "### Mean Squared Logarithmic Error"
   ]
  },
  {
   "cell_type": "markdown",
   "id": "b2cdedeb",
   "metadata": {},
   "source": [
    "Similar to MSE, but calculated on a logarithmic scale. The target should be non-negative, but can be equal to zero. If the target is never zero, the addition of 1 in the logarithm can be dropped. "
   ]
  },
  {
   "attachments": {
    "image.png": {
     "image/png": "[encoded data removed]"
    }
   },
   "cell_type": "markdown",
   "id": "3f2aae81",
   "metadata": {},
   "source": [
    "![image.png](attachment:image.png)"
   ]
  },
  {
   "cell_type": "code",
   "execution_count": 12,
   "id": "29cb643b",
   "metadata": {},
   "outputs": [
    {
     "name": "stdout",
     "output_type": "stream",
     "text": [
      "Mean Squared Logarithmic Error:  There's a value error. Mean Squared Logarithmic Error cannot be used when targets contain negative values.\n"
     ]
    }
   ],
   "source": [
    "def msle(y_hat,y):\n",
    "    with np.errstate(divide='raise'):\n",
    "        try:\n",
    "            return np.mean((np.log(y_hat + 1) - np.log(y + 1))**2)\n",
    "        except FloatingPointError:\n",
    "            return (\"There's a value error. Mean Squared Logarithmic Error cannot be used when targets contain negative values.\")\n",
    "            \n",
    "\n",
    "print (\"Mean Squared Logarithmic Error: \", msle(y_hat, y))"
   ]
  },
  {
   "cell_type": "markdown",
   "id": "21a88b70",
   "metadata": {},
   "source": [
    "<i>As mentioned on the definition above, MSLE should have non-negative target values. Since the y_hat provided contains negative values, the MSLE is undefined. Values can be equal to zero however, we need to add 1 to values as seen in the equation.</i>"
   ]
  },
  {
   "cell_type": "markdown",
   "id": "718b0edf",
   "metadata": {},
   "source": [
    "### Mean Absolute Percentage Error"
   ]
  },
  {
   "cell_type": "markdown",
   "id": "12082a5e",
   "metadata": {},
   "source": [
    "Similar to MAE, mean absolute percentage error is as shown below:"
   ]
  },
  {
   "attachments": {
    "image.png": {
     "image/png": "[encoded data removed]"
    }
   },
   "cell_type": "markdown",
   "id": "b6bc194e",
   "metadata": {},
   "source": [
    "![image.png](attachment:image.png)"
   ]
  },
  {
   "cell_type": "code",
   "execution_count": 13,
   "id": "60f9aeef",
   "metadata": {},
   "outputs": [
    {
     "name": "stdout",
     "output_type": "stream",
     "text": [
      "Mean Absolute Percentage Error:  There's a value error. Mean Absolute Percentage Error should only be used to calculate actual values greater than zero.\n"
     ]
    }
   ],
   "source": [
    "def mape(y_hat,y):\n",
    "     with np.errstate(divide='raise'):\n",
    "        try:\n",
    "            return np.mean(np.absolute((y_hat - y)/y)) * 100\n",
    "        except FloatingPointError:\n",
    "            return (\"There's a value error. Mean Absolute Percentage Error should only be used to calculate actual values greater than zero.\")\n",
    "            \n",
    "print (\"Mean Absolute Percentage Error: \", mape(y_hat,y))"
   ]
  },
  {
   "cell_type": "markdown",
   "id": "03ac0f62",
   "metadata": {},
   "source": [
    "<i>Mean Absolute Percentage Error should be used only to calculate actual values greater than zero. If there is a zero actual value, MAPE will be undefined.</i>"
   ]
  },
  {
   "cell_type": "markdown",
   "id": "3b36f81b",
   "metadata": {},
   "source": [
    "## Part 2"
   ]
  },
  {
   "cell_type": "markdown",
   "id": "05d32562",
   "metadata": {},
   "source": [
    "* Create a 1D array M {1,2, ... 16} using the arange function"
   ]
  },
  {
   "cell_type": "code",
   "execution_count": 14,
   "id": "0c3c7871",
   "metadata": {},
   "outputs": [
    {
     "data": {
      "text/plain": [
       "array([ 1,  2,  3,  4,  5,  6,  7,  8,  9, 10, 11, 12, 13, 14, 15, 16])"
      ]
     },
     "execution_count": 14,
     "metadata": {},
     "output_type": "execute_result"
    }
   ],
   "source": [
    "M = np.arange(1,17)\n",
    "M"
   ]
  },
  {
   "cell_type": "markdown",
   "id": "cd49caf6",
   "metadata": {},
   "source": [
    "* Reshape M into 4x4 array and store it to N"
   ]
  },
  {
   "cell_type": "code",
   "execution_count": 15,
   "id": "fbd17ff7",
   "metadata": {},
   "outputs": [
    {
     "data": {
      "text/plain": [
       "array([[ 1,  2,  3,  4],\n",
       "       [ 5,  6,  7,  8],\n",
       "       [ 9, 10, 11, 12],\n",
       "       [13, 14, 15, 16]])"
      ]
     },
     "execution_count": 15,
     "metadata": {},
     "output_type": "execute_result"
    }
   ],
   "source": [
    "N = M.reshape(4,4)\n",
    "N"
   ]
  },
  {
   "cell_type": "markdown",
   "id": "82f8600d",
   "metadata": {},
   "source": [
    "* Get the 2nd row of N"
   ]
  },
  {
   "cell_type": "code",
   "execution_count": 16,
   "id": "874124f8",
   "metadata": {},
   "outputs": [
    {
     "data": {
      "text/plain": [
       "array([5, 6, 7, 8])"
      ]
     },
     "execution_count": 16,
     "metadata": {},
     "output_type": "execute_result"
    }
   ],
   "source": [
    "N[1,:]"
   ]
  },
  {
   "cell_type": "markdown",
   "id": "4e86a000",
   "metadata": {},
   "source": [
    "* Get the minimum values for each column of N"
   ]
  },
  {
   "cell_type": "code",
   "execution_count": 17,
   "id": "30d0e337",
   "metadata": {},
   "outputs": [
    {
     "data": {
      "text/plain": [
       "array([1, 2, 3, 4])"
      ]
     },
     "execution_count": 17,
     "metadata": {},
     "output_type": "execute_result"
    }
   ],
   "source": [
    "np.min(N, axis = 0)"
   ]
  },
  {
   "cell_type": "markdown",
   "id": "cc3024de",
   "metadata": {},
   "source": [
    "* Get the locations of the minimum values for each column of N"
   ]
  },
  {
   "cell_type": "code",
   "execution_count": 18,
   "id": "2e13ceba",
   "metadata": {},
   "outputs": [
    {
     "data": {
      "text/plain": [
       "0"
      ]
     },
     "execution_count": 18,
     "metadata": {},
     "output_type": "execute_result"
    }
   ],
   "source": [
    "np.argmin(M, axis=0)"
   ]
  },
  {
   "cell_type": "markdown",
   "id": "e0e0e83a",
   "metadata": {},
   "source": [
    "* Get the average of the whole matrix"
   ]
  },
  {
   "cell_type": "code",
   "execution_count": 19,
   "id": "cb8e4e57",
   "metadata": {},
   "outputs": [
    {
     "data": {
      "text/plain": [
       "8.5"
      ]
     },
     "execution_count": 19,
     "metadata": {},
     "output_type": "execute_result"
    }
   ],
   "source": [
    "np.mean(M)"
   ]
  },
  {
   "cell_type": "markdown",
   "id": "15ff5f7f",
   "metadata": {},
   "source": [
    "* Create a vector V with 4 elements, each element is 1"
   ]
  },
  {
   "cell_type": "code",
   "execution_count": 20,
   "id": "0cb7d95e",
   "metadata": {},
   "outputs": [
    {
     "data": {
      "text/plain": [
       "array([1, 1, 1, 1])"
      ]
     },
     "execution_count": 20,
     "metadata": {},
     "output_type": "execute_result"
    }
   ],
   "source": [
    "V = np.array([1,1,1,1])\n",
    "V"
   ]
  },
  {
   "cell_type": "markdown",
   "id": "14b24702",
   "metadata": {},
   "source": [
    "* Take the dot product of N and V"
   ]
  },
  {
   "cell_type": "code",
   "execution_count": 21,
   "id": "a6d66647",
   "metadata": {},
   "outputs": [
    {
     "data": {
      "text/plain": [
       "array([10, 26, 42, 58])"
      ]
     },
     "execution_count": 21,
     "metadata": {},
     "output_type": "execute_result"
    }
   ],
   "source": [
    "np.dot(N, V)"
   ]
  }
 ],
 "metadata": {
  "kernelspec": {
   "display_name": "Python 3 (ipykernel)",
   "language": "python",
   "name": "python3"
  },
  "language_info": {
   "codemirror_mode": {
    "name": "ipython",
    "version": 3
   },
   "file_extension": ".py",
   "mimetype": "text/x-python",
   "name": "python",
   "nbconvert_exporter": "python",
   "pygments_lexer": "ipython3",
   "version": "3.9.7"
  }
 },
 "nbformat": 4,
 "nbformat_minor": 5
}
